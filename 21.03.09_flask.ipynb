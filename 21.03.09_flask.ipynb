{
 "cells": [
  {
   "cell_type": "code",
   "execution_count": 1,
   "metadata": {},
   "outputs": [
    {
     "name": "stdout",
     "output_type": "stream",
     "text": [
      " * Serving Flask app \"__main__\" (lazy loading)\n",
      " * Environment: production\n",
      "   WARNING: This is a development server. Do not use it in a production deployment.\n",
      "   Use a production WSGI server instead.\n",
      " * Debug mode: off\n"
     ]
    },
    {
     "name": "stderr",
     "output_type": "stream",
     "text": [
      " * Running on http://127.0.0.1:5000/ (Press CTRL+C to quit)\n"
     ]
    }
   ],
   "source": [
    "from flask import Flask, session\n",
    "app = Flask(__name__)\n",
    "app.secret_key = 'YouWillNeverGuess'\n",
    "\n",
    "@app.route('/setuser/<user>')\n",
    "def setuser(user: str) -> str:\n",
    "    session['user'] = user\n",
    "    return 'User value set to: ' + session['user']\n",
    "\n",
    "@app.route('/getuser')\n",
    "def getuser() -> str:\n",
    "    return 'User value is currently set to: ' +  session['user']\n",
    "\n",
    "if __name__ == '__main__':\n",
    "    app.run()"
   ]
  },
  {
   "cell_type": "code",
   "execution_count": 2,
   "metadata": {},
   "outputs": [
    {
     "name": "stdout",
     "output_type": "stream",
     "text": [
      " * Serving Flask app \"__main__\" (lazy loading)\n",
      " * Environment: production\n",
      "   WARNING: This is a development server. Do not use it in a production deployment.\n",
      "   Use a production WSGI server instead.\n",
      " * Debug mode: off\n"
     ]
    },
    {
     "name": "stderr",
     "output_type": "stream",
     "text": [
      " * Running on http://127.0.0.1:5000/ (Press CTRL+C to quit)\n"
     ]
    }
   ],
   "source": [
    "from flask import Flask\n",
    "\n",
    "app = Flask(__name__)\n",
    "\n",
    "@app.route('/')\n",
    "def hello() -> str:\n",
    "    return 'Hello from the simple webapp'\n",
    "\n",
    "@app.route('/page1')\n",
    "def page1() -> str:\n",
    "    return 'This is page 1.'\n",
    "\n",
    "@app.route('/page2')\n",
    "def page2() -> str: \n",
    "    return 'This is page 2.'\n",
    "\n",
    "@app.route('/page3')\n",
    "def page3() -> str:\n",
    "    return 'This is page 3'\n",
    "\n",
    "if __name__ == '__main__':\n",
    "    app.run()"
   ]
  },
  {
   "cell_type": "code",
   "execution_count": null,
   "metadata": {},
   "outputs": [
    {
     "name": "stdout",
     "output_type": "stream",
     "text": [
      " * Serving Flask app \"__main__\" (lazy loading)\n",
      " * Environment: production\n",
      "   WARNING: This is a development server. Do not use it in a production deployment.\n",
      "   Use a production WSGI server instead.\n",
      " * Debug mode: off\n"
     ]
    },
    {
     "name": "stderr",
     "output_type": "stream",
     "text": [
      " * Running on http://127.0.0.1:5000/ (Press CTRL+C to quit)\n",
      "127.0.0.1 - - [09/Mar/2021 13:01:24] \"\u001b[37mGET /status HTTP/1.1\u001b[0m\" 200 -\n",
      "127.0.0.1 - - [09/Mar/2021 13:01:46] \"\u001b[37mGET /login HTTP/1.1\u001b[0m\" 200 -\n",
      "127.0.0.1 - - [09/Mar/2021 13:01:49] \"\u001b[37mGET /login HTTP/1.1\u001b[0m\" 200 -\n",
      "127.0.0.1 - - [09/Mar/2021 13:01:56] \"\u001b[37mGET /status HTTP/1.1\u001b[0m\" 200 -\n",
      "127.0.0.1 - - [09/Mar/2021 13:02:11] \"\u001b[37mGET /status HTTP/1.1\u001b[0m\" 200 -\n",
      "127.0.0.1 - - [09/Mar/2021 13:02:12] \"\u001b[33mGET /favicon.ico HTTP/1.1\u001b[0m\" 404 -\n",
      "127.0.0.1 - - [09/Mar/2021 13:02:17] \"\u001b[37mGET /login HTTP/1.1\u001b[0m\" 200 -\n",
      "127.0.0.1 - - [09/Mar/2021 13:02:22] \"\u001b[37mGET /status HTTP/1.1\u001b[0m\" 200 -\n",
      "127.0.0.1 - - [09/Mar/2021 13:03:23] \"\u001b[37mGET /logout HTTP/1.1\u001b[0m\" 200 -\n",
      "127.0.0.1 - - [09/Mar/2021 13:03:31] \"\u001b[37mGET /login HTTP/1.1\u001b[0m\" 200 -\n"
     ]
    }
   ],
   "source": [
    "from flask import Flask, session\n",
    "\n",
    "app = Flask(__name__)\n",
    "\n",
    "@app.route('/')\n",
    "def hello() -> str:\n",
    "    return 'Hello from the simple webapp'\n",
    "\n",
    "@app.route('/page1')\n",
    "def page1() -> str:\n",
    "    return 'This is page 1.'\n",
    "\n",
    "@app.route('/page2')\n",
    "def page2() -> str: \n",
    "    return 'This is page 2.'\n",
    "\n",
    "@app.route('/page3')\n",
    "def page3() -> str:\n",
    "    return 'This is page 3'\n",
    "\n",
    "@app.route('/login')\n",
    "def do_login() -> str:\n",
    "    session['logged_in'] = True\n",
    "    return 'You are now logged in.'\n",
    "\n",
    "@app.route('/logout')\n",
    "def do_logout() -> str:\n",
    "    session.pop('logged_in')\n",
    "    return 'You are now logged out.'\n",
    "\n",
    "@app.route('/status')\n",
    "def check_status() -> str:\n",
    "    if 'logged_in' in session:\n",
    "        return 'You are currently logged in.'\n",
    "    return 'You are NOT logged in.'\n",
    "\n",
    "app.secret_key = 'YouWillNeverGuessMySecretKey'\n",
    "\n",
    "if __name__ == '__main__':\n",
    "    app.run()"
   ]
  },
  {
   "cell_type": "code",
   "execution_count": null,
   "metadata": {},
   "outputs": [],
   "source": []
  }
 ],
 "metadata": {
  "kernelspec": {
   "display_name": "Python 3",
   "language": "python",
   "name": "python3"
  },
  "language_info": {
   "codemirror_mode": {
    "name": "ipython",
    "version": 3
   },
   "file_extension": ".py",
   "mimetype": "text/x-python",
   "name": "python",
   "nbconvert_exporter": "python",
   "pygments_lexer": "ipython3",
   "version": "3.8.5"
  }
 },
 "nbformat": 4,
 "nbformat_minor": 4
}
